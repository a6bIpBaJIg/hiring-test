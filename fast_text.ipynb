{
 "cells": [
  {
   "cell_type": "code",
   "execution_count": 1,
   "metadata": {
    "ExecuteTime": {
     "end_time": "2021-02-24T02:09:21.200569Z",
     "start_time": "2021-02-24T02:09:20.989064Z"
    }
   },
   "outputs": [],
   "source": [
    "import fasttext\n",
    "import numpy as np, pandas as pd\n"
   ]
  },
  {
   "cell_type": "code",
   "execution_count": 5,
   "metadata": {
    "ExecuteTime": {
     "end_time": "2021-02-24T02:09:35.061496Z",
     "start_time": "2021-02-24T02:09:21.324606Z"
    }
   },
   "outputs": [],
   "source": [
    "train = pd.read_csv('train.csv')\n",
    "val = pd.read_csv('val.csv')"
   ]
  },
  {
   "cell_type": "code",
   "execution_count": 11,
   "metadata": {
    "ExecuteTime": {
     "end_time": "2021-02-24T02:09:47.457943Z",
     "start_time": "2021-02-24T02:09:35.100495Z"
    }
   },
   "outputs": [],
   "source": [
    "dataset = pd.read_csv('train.csv')[['description', 'is_bad']].rename(columns = {'description': 'questions', 'is_bad': 'category'})\n",
    "ds = pd.read_csv('val.csv')[['description', 'is_bad']].rename(columns = {'description': 'questions', 'is_bad': 'category'})"
   ]
  },
  {
   "cell_type": "code",
   "execution_count": 12,
   "metadata": {
    "ExecuteTime": {
     "end_time": "2021-02-24T02:09:47.916861Z",
     "start_time": "2021-02-24T02:09:47.459071Z"
    }
   },
   "outputs": [],
   "source": [
    "dataset['category'] = dataset['category'].astype(str)\n",
    "ds['category'] = ds['category'].astype(str)"
   ]
  },
  {
   "cell_type": "code",
   "execution_count": 13,
   "metadata": {
    "ExecuteTime": {
     "end_time": "2021-02-24T02:09:48.278819Z",
     "start_time": "2021-02-24T02:09:47.917848Z"
    }
   },
   "outputs": [],
   "source": [
    "import nltk\n",
    "from nltk.tokenize import word_tokenize\n",
    "from nltk.tag import pos_tag"
   ]
  },
  {
   "cell_type": "code",
   "execution_count": 14,
   "metadata": {
    "ExecuteTime": {
     "end_time": "2021-02-24T02:09:48.595657Z",
     "start_time": "2021-02-24T02:09:48.279728Z"
    }
   },
   "outputs": [
    {
     "name": "stderr",
     "output_type": "stream",
     "text": [
      "[nltk_data] Downloading package punkt to /home/noname/nltk_data...\n",
      "[nltk_data]   Package punkt is already up-to-date!\n",
      "[nltk_data] Downloading package averaged_perceptron_tagger to\n",
      "[nltk_data]     /home/noname/nltk_data...\n",
      "[nltk_data]   Package averaged_perceptron_tagger is already up-to-\n",
      "[nltk_data]       date!\n",
      "[nltk_data] Downloading package maxent_ne_chunker to\n",
      "[nltk_data]     /home/noname/nltk_data...\n",
      "[nltk_data]   Package maxent_ne_chunker is already up-to-date!\n",
      "[nltk_data] Downloading package words to /home/noname/nltk_data...\n",
      "[nltk_data]   Package words is already up-to-date!\n"
     ]
    },
    {
     "data": {
      "text/plain": [
       "True"
      ]
     },
     "execution_count": 14,
     "metadata": {},
     "output_type": "execute_result"
    }
   ],
   "source": [
    "nltk.download('punkt')\n",
    "nltk.download('averaged_perceptron_tagger')\n",
    "nltk.download('maxent_ne_chunker')\n",
    "nltk.download('words')"
   ]
  },
  {
   "cell_type": "code",
   "execution_count": 17,
   "metadata": {
    "ExecuteTime": {
     "end_time": "2021-02-24T02:09:48.618379Z",
     "start_time": "2021-02-24T02:09:48.615080Z"
    }
   },
   "outputs": [
    {
     "data": {
      "text/plain": [
       "'Звонить 89425546881'"
      ]
     },
     "execution_count": 17,
     "metadata": {},
     "output_type": "execute_result"
    }
   ],
   "source": [
    "ds.iloc[0,0]"
   ]
  },
  {
   "cell_type": "code",
   "execution_count": 20,
   "metadata": {
    "ExecuteTime": {
     "end_time": "2021-02-24T02:09:48.634918Z",
     "start_time": "2021-02-24T02:09:48.631100Z"
    }
   },
   "outputs": [],
   "source": [
    "# model.predict(dataset.iloc[984482, 0])"
   ]
  },
  {
   "cell_type": "code",
   "execution_count": 21,
   "metadata": {
    "ExecuteTime": {
     "end_time": "2021-02-24T02:17:56.460604Z",
     "start_time": "2021-02-24T02:09:48.636256Z"
    }
   },
   "outputs": [],
   "source": [
    "# NLP Preprocess\n",
    "dataset.iloc[:, 0] = dataset.iloc[:, 0].apply(lambda x: ' '.join(word_tokenize(x)))\n",
    "ds.iloc[:, 0] = ds.iloc[:, 0].apply(lambda x: ' '.join(word_tokenize(x)))\n",
    "\n",
    "# Prefixing each row of the category column with '__label__'\n",
    "dataset.iloc[:, 1] = dataset.iloc[:, 1].apply(lambda x: '__label__' + x)\n",
    "ds.iloc[:, 1] = ds.iloc[:, 1].apply(lambda x: '__label__' + x)"
   ]
  },
  {
   "cell_type": "code",
   "execution_count": 22,
   "metadata": {
    "ExecuteTime": {
     "end_time": "2021-02-24T02:17:56.464017Z",
     "start_time": "2021-02-24T02:17:56.461408Z"
    }
   },
   "outputs": [
    {
     "data": {
      "text/plain": [
       "'Продаем диван-кровать . Удобный механизм - еврокнижка . Размер спального места 640-200 . Все подушки и подлокотники съёмные и мобильные . Ящик для белья . Продаем в связи с переездом . Муж может помочь с погрузкой . Небольшой торг возможен . Звоните в любое время .'"
      ]
     },
     "execution_count": 22,
     "metadata": {},
     "output_type": "execute_result"
    }
   ],
   "source": [
    "dataset.iloc[:, 0][0]"
   ]
  },
  {
   "cell_type": "code",
   "execution_count": 23,
   "metadata": {
    "ExecuteTime": {
     "end_time": "2021-02-24T02:17:56.483087Z",
     "start_time": "2021-02-24T02:17:56.466542Z"
    }
   },
   "outputs": [],
   "source": [
    "import csv"
   ]
  },
  {
   "cell_type": "code",
   "execution_count": 40,
   "metadata": {
    "ExecuteTime": {
     "end_time": "2021-02-24T02:43:55.400338Z",
     "start_time": "2021-02-24T02:39:54.003238Z"
    }
   },
   "outputs": [
    {
     "data": {
      "text/plain": [
       "(('__label__0',), array([0.97590172]))"
      ]
     },
     "execution_count": 40,
     "metadata": {},
     "output_type": "execute_result"
    }
   ],
   "source": [
    "dataset[['category', 'questions']].to_csv('train.txt', \n",
    "                                          index = False, \n",
    "                                          sep = ' ',\n",
    "                                          header = None, \n",
    "                                          quoting = csv.QUOTE_NONE, \n",
    "                                          quotechar = \"\", \n",
    "                                          escapechar = \" \")\n",
    "\n",
    "ds[['category', 'questions']].to_csv('test.txt', \n",
    "                                     index = False, \n",
    "                                     sep = ' ',\n",
    "                                     header = None, \n",
    "                                     quoting = csv.QUOTE_NONE, \n",
    "                                     quotechar = \"\", \n",
    "                                     escapechar = \" \")\n",
    "\n",
    "\n",
    "# Training the fastText classifier\n",
    "model = fasttext.train_supervised('train.txt', epoch=10, wordNgrams = 5)\n",
    "\n",
    "# Evaluating performance on the entire test file\n",
    "model.test('test.txt')                      \n",
    "\n",
    "# Predicting on a single input\n",
    "model.predict(ds.iloc[2, 0])\n",
    "\n",
    "# Save the trained model\n",
    "#model.save_model('model.bin')"
   ]
  },
  {
   "cell_type": "code",
   "execution_count": 26,
   "metadata": {
    "ExecuteTime": {
     "end_time": "2021-02-24T02:20:09.786562Z",
     "start_time": "2021-02-24T02:20:09.779051Z"
    }
   },
   "outputs": [
    {
     "data": {
      "text/plain": [
       "(('__label__0',), array([0.94093859]))"
      ]
     },
     "execution_count": 26,
     "metadata": {},
     "output_type": "execute_result"
    }
   ],
   "source": [
    "model.predict(ds.iloc[2, 0])"
   ]
  },
  {
   "cell_type": "code",
   "execution_count": 27,
   "metadata": {
    "ExecuteTime": {
     "end_time": "2021-02-24T02:20:09.792731Z",
     "start_time": "2021-02-24T02:20:09.787369Z"
    }
   },
   "outputs": [
    {
     "data": {
      "text/plain": [
       "'Продаю кровать-трансформер производства \"Столплит\"./\\nОтличное решение для небольших детских комнат, позволяет получить большое спальное место и такой же большой стол./\\nЦвет - Сосна Авола Шампань./\\nВ комплекте: фирменная дополнительная секция с полками (СБ-1094, стоит наверху, может быть подвешена к стене), матрас, две лампы (одна для \"настольного\" режима, другая для \"кроватного\"), дополнительные полки в кроватном режиме, устройство для хранения БП ноутбука./\\nГазовые подъёмники заменены год назад (500 кг вместо 80 кг) для облегчения подъёма кровати./\\n/\\nВ сумме такая комбинация (кровать, матрас и полка) на сайте stolplit точка ru стоит более 40 тысяч./\\n/\\nРазумный торг.'"
      ]
     },
     "execution_count": 27,
     "metadata": {},
     "output_type": "execute_result"
    }
   ],
   "source": [
    "val['description'][3]"
   ]
  },
  {
   "cell_type": "code",
   "execution_count": 41,
   "metadata": {
    "ExecuteTime": {
     "end_time": "2021-02-24T02:43:56.903748Z",
     "start_time": "2021-02-24T02:43:55.401286Z"
    }
   },
   "outputs": [],
   "source": [
    "predictions=[]\n",
    "for line in val['description']:\n",
    "    line = line.replace(\"\\n\", \" \")\n",
    "    \n",
    "    pred_label=model.predict(line, k=-1, threshold=0.5)\n",
    "    \n",
    "     \n",
    "# you add the list to the dataframe, then save the datframe to new csv\n",
    "    if pred_label[0][0] == '__label__1':\n",
    "        pred = pred_label[1][0]\n",
    "    elif pred_label[0][0] == '__label__0':\n",
    "        pred = 1 - pred_label[1][0]\n",
    "    predictions.append(pred)\n",
    "val['predict']=predictions\n",
    "# df.to_csv('csv_file_w_pred.csv',sep=';',index=False)"
   ]
  },
  {
   "cell_type": "code",
   "execution_count": 42,
   "metadata": {
    "ExecuteTime": {
     "end_time": "2021-02-24T02:43:56.912645Z",
     "start_time": "2021-02-24T02:43:56.904961Z"
    }
   },
   "outputs": [
    {
     "data": {
      "text/plain": [
       "0.8564416803084888"
      ]
     },
     "execution_count": 42,
     "metadata": {},
     "output_type": "execute_result"
    }
   ],
   "source": [
    "from sklearn.datasets import load_breast_cancer\n",
    "from sklearn.linear_model import LogisticRegression\n",
    "from sklearn.metrics import roc_auc_score\n",
    "\n",
    "roc_auc_score(val['is_bad'], val['predict'])\n"
   ]
  }
 ],
 "metadata": {
  "kernelspec": {
   "display_name": "Python 3",
   "language": "python",
   "name": "python3"
  },
  "language_info": {
   "codemirror_mode": {
    "name": "ipython",
    "version": 3
   },
   "file_extension": ".py",
   "mimetype": "text/x-python",
   "name": "python",
   "nbconvert_exporter": "python",
   "pygments_lexer": "ipython3",
   "version": "3.8.5"
  }
 },
 "nbformat": 4,
 "nbformat_minor": 5
}
